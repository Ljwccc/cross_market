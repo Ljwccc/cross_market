{
 "cells": [
  {
   "cell_type": "code",
   "execution_count": 1,
   "id": "engaged-blogger",
   "metadata": {},
   "outputs": [
    {
     "name": "stdout",
     "output_type": "stream",
     "text": [
      "INFO: Pandarallel will run on 8 workers.\n",
      "INFO: Pandarallel will use Memory file system to transfer data between the main process and workers.\n"
     ]
    }
   ],
   "source": [
    "import matplotlib.pyplot as plt\n",
    "import seaborn as sns\n",
    "import gc\n",
    "import re\n",
    "import pandas as pd\n",
    "# import optuna.integration.lightgbm as lgb  # 调参用\n",
    "from lightgbm import LGBMClassifier\n",
    "import numpy as np\n",
    "from sklearn.metrics import roc_auc_score, precision_recall_curve, roc_curve, average_precision_score, f1_score\n",
    "from sklearn.model_selection import KFold, StratifiedKFold\n",
    "\n",
    "import math\n",
    "from collections import defaultdict\n",
    "from gensim.models import Word2Vec\n",
    "from tqdm import tqdm\n",
    "import os\n",
    "from lgb_utils import *\n",
    "\n",
    "import joblib\n",
    "import random\n",
    "\n",
    "import warnings\n",
    "warnings.filterwarnings(\"ignore\")\n",
    "\n",
    "tqdm.pandas(desc='pandas bar')\n",
    "\n",
    "pd.set_option('max_columns', None)\n",
    "pd.set_option('max_rows', 300)\n",
    "pd.set_option('float_format', lambda x: '%.3f' % x)\n",
    "\n",
    "tgt_market = 't1'\n",
    "src_market = 's1'\n",
    "tgt_data_dir = f'./DATA/{tgt_market}/'"
   ]
  },
  {
   "cell_type": "code",
   "execution_count": 2,
   "id": "material-egypt",
   "metadata": {},
   "outputs": [
    {
     "name": "stdout",
     "output_type": "stream",
     "text": [
      "(128075, 3)\n"
     ]
    }
   ],
   "source": [
    "train = pd.read_table(tgt_data_dir+'train.tsv')\n",
    "train_5core = pd.read_table(tgt_data_dir+'train_5core.tsv')\n",
    "\n",
    "train_cross = train_5core.merge(train, on=['userId', 'itemId'], how='left')\n",
    "train_5core = train_cross[train_cross['rating_y'].isnull()][['userId', 'itemId']]\n",
    "\n",
    "train = pd.concat([train, train_5core, train_5core, train_5core, train_5core, train_5core], ignore_index=True)\n",
    "print(train.shape)"
   ]
  },
  {
   "cell_type": "code",
   "execution_count": 3,
   "id": "laughing-certificate",
   "metadata": {},
   "outputs": [
    {
     "data": {
      "text/html": [
       "<div>\n",
       "<style scoped>\n",
       "    .dataframe tbody tr th:only-of-type {\n",
       "        vertical-align: middle;\n",
       "    }\n",
       "\n",
       "    .dataframe tbody tr th {\n",
       "        vertical-align: top;\n",
       "    }\n",
       "\n",
       "    .dataframe thead th {\n",
       "        text-align: right;\n",
       "    }\n",
       "</style>\n",
       "<table border=\"1\" class=\"dataframe\">\n",
       "  <thead>\n",
       "    <tr style=\"text-align: right;\">\n",
       "      <th></th>\n",
       "      <th>userId</th>\n",
       "      <th>itemId</th>\n",
       "      <th>rating</th>\n",
       "    </tr>\n",
       "  </thead>\n",
       "  <tbody>\n",
       "    <tr>\n",
       "      <th>0</th>\n",
       "      <td>t2U1008825</td>\n",
       "      <td>P1014064</td>\n",
       "      <td>5.000</td>\n",
       "    </tr>\n",
       "    <tr>\n",
       "      <th>1</th>\n",
       "      <td>t2U1000444</td>\n",
       "      <td>P1011611</td>\n",
       "      <td>1.000</td>\n",
       "    </tr>\n",
       "    <tr>\n",
       "      <th>2</th>\n",
       "      <td>t2U1014700</td>\n",
       "      <td>P1028053</td>\n",
       "      <td>5.000</td>\n",
       "    </tr>\n",
       "    <tr>\n",
       "      <th>3</th>\n",
       "      <td>t2U1011417</td>\n",
       "      <td>P1018377</td>\n",
       "      <td>4.000</td>\n",
       "    </tr>\n",
       "    <tr>\n",
       "      <th>4</th>\n",
       "      <td>t2U1014369</td>\n",
       "      <td>P1020825</td>\n",
       "      <td>5.000</td>\n",
       "    </tr>\n",
       "  </tbody>\n",
       "</table>\n",
       "</div>"
      ],
      "text/plain": [
       "       userId    itemId  rating\n",
       "0  t2U1008825  P1014064   5.000\n",
       "1  t2U1000444  P1011611   1.000\n",
       "2  t2U1014700  P1028053   5.000\n",
       "3  t2U1011417  P1018377   4.000\n",
       "4  t2U1014369  P1020825   5.000"
      ]
     },
     "execution_count": 3,
     "metadata": {},
     "output_type": "execute_result"
    }
   ],
   "source": [
    "train.head()"
   ]
  },
  {
   "cell_type": "markdown",
   "id": "polished-boutique",
   "metadata": {},
   "source": [
    "# 提取用户侧和物品侧的特征"
   ]
  },
  {
   "cell_type": "code",
   "execution_count": 4,
   "id": "loaded-allergy",
   "metadata": {},
   "outputs": [],
   "source": [
    "# 转成列表\n",
    "user_feature = train.groupby(\"userId\").agg(item_list=(\"itemId\", list), rating_list=(\"rating\", list)).reset_index()\n",
    "item_feature = train.groupby(\"itemId\").agg(user_list=(\"userId\", list), rating_list=(\"rating\", list)).reset_index()"
   ]
  },
  {
   "cell_type": "markdown",
   "id": "banner-infrared",
   "metadata": {},
   "source": [
    "# 构建训练集和测试集"
   ]
  },
  {
   "cell_type": "markdown",
   "id": "above-facial",
   "metadata": {},
   "source": [
    "## 构建训练集，未交互过的样本当作负样本"
   ]
  },
  {
   "cell_type": "markdown",
   "id": "fluid-flood",
   "metadata": {},
   "source": [
    "## 构建验证集&测试集"
   ]
  },
  {
   "cell_type": "code",
   "execution_count": 5,
   "id": "acquired-street",
   "metadata": {},
   "outputs": [
    {
     "name": "stdout",
     "output_type": "stream",
     "text": [
      "find w2v model\n",
      "find w2v model\n"
     ]
    }
   ],
   "source": [
    "def load_market_valid_run(valid_run_file):  # 把一行item_id分别拆到user_id中,构成<user_id,item_id>pair\n",
    "    users, items = [], []\n",
    "    with open(valid_run_file, 'r') as f:\n",
    "        for line in f:\n",
    "            linetoks = line.split('\\t')\n",
    "            user_id = linetoks[0]\n",
    "            item_ids = linetoks[1].strip().split(',')\n",
    "            for cindex, item_id in enumerate(item_ids):\n",
    "                users.append(user_id)\n",
    "                items.append(item_id)\n",
    "\n",
    "    return users, items\n",
    "\n",
    "# 提取特征\n",
    "user_feature, item_feature = get_static_feat(train.copy(), user_feature.copy(), item_feature.copy())\n",
    "user_embed = emb(train.copy(), 'userId', 'itemId', tgt_market, mode='agg')\n",
    "item_embed = emb(train.copy(), 'userId', 'itemId', tgt_market, mode='single')\n",
    "\n",
    "# 验证集，同时也作为训练集\n",
    "user_ids, item_ids = load_market_valid_run(tgt_data_dir+'valid_run.tsv')\n",
    "valid = pd.DataFrame(columns=['userId','itemId'])\n",
    "valid['userId'] = user_ids\n",
    "valid['itemId'] = item_ids\n",
    "# 合并统计特征\n",
    "valid = valid.merge(user_feature, on='userId',how='left')\n",
    "valid = valid.merge(item_feature, on='itemId',how='left')\n",
    "# 合并w2v特征\n",
    "valid = valid.merge(user_embed, on='userId',how='left')\n",
    "valid = valid.merge(item_embed, on='itemId',how='left')\n",
    "\n",
    "# 测试集\n",
    "user_ids, item_ids = load_market_valid_run(tgt_data_dir+'test_run.tsv')\n",
    "test = pd.DataFrame(columns=['userId','itemId'])\n",
    "test['userId'] = user_ids\n",
    "test['itemId'] = item_ids\n",
    "# 合并统计特征\n",
    "test = test.merge(user_feature, on='userId',how='left')\n",
    "test = test.merge(item_feature, on='itemId',how='left')\n",
    "# 合并w2v特征\n",
    "test = test.merge(user_embed, on='userId',how='left')\n",
    "test = test.merge(item_embed, on='itemId',how='left')\n",
    "# test.isnull().sum()\n",
    "\n",
    "# 合并嫁接学习分数特征\n",
    "transfer_feat_s1 = pd.read_csv(f'./transfer_data/s1_{tgt_market}_transfer.csv')\n",
    "transfer_feat_s2 = pd.read_csv(f'./transfer_data/s2_{tgt_market}_transfer.csv')\n",
    "transfer_feat_s3 = pd.read_csv(f'./transfer_data/s3_{tgt_market}_transfer.csv')\n",
    "\n",
    "valid = valid.merge(transfer_feat_s1, on=['userId', 'itemId'],how='left')\n",
    "test = test.merge(transfer_feat_s1, on=['userId', 'itemId'],how='left')\n",
    "\n",
    "# valid = valid.merge(transfer_feat_s2, on=['userId', 'itemId'],how='left')\n",
    "# test = test.merge(transfer_feat_s2, on=['userId', 'itemId'],how='left')\n",
    "\n",
    "# valid = valid.merge(transfer_feat_s3, on=['userId', 'itemId'],how='left')\n",
    "# test = test.merge(transfer_feat_s3, on=['userId', 'itemId'],how='left')"
   ]
  },
  {
   "cell_type": "code",
   "execution_count": 6,
   "id": "b6c7bc38",
   "metadata": {},
   "outputs": [
    {
     "name": "stderr",
     "output_type": "stream",
     "text": [
      "100%|██████████| 18504/18504 [00:00<00:00, 25081.13it/s]\n",
      "100%|██████████| 8919/8919 [00:00<00:00, 42308.59it/s]\n",
      "100%|██████████| 18504/18504 [00:00<00:00, 24914.57it/s]\n",
      "100%|██████████| 8919/8919 [00:00<00:00, 41140.84it/s]\n"
     ]
    }
   ],
   "source": [
    "# 合并item_cf特征\n",
    "valid_cf = get_sim_feature(train.copy(), valid.copy())\n",
    "test_cf = get_sim_feature(train.copy(), test.copy())\n",
    "valid = valid.merge(valid_cf, how='left', on=['userId','itemId'])\n",
    "test = test.merge(test_cf, how='left', on=['userId','itemId'])"
   ]
  },
  {
   "cell_type": "code",
   "execution_count": 7,
   "id": "1086b975",
   "metadata": {},
   "outputs": [
    {
     "name": "stdout",
     "output_type": "stream",
     "text": [
      "(602317, 59)\n"
     ]
    }
   ],
   "source": [
    "# 将valid的label merge上去\n",
    "valid_qrel = pd.read_table(tgt_data_dir+'valid_qrel.tsv')\n",
    "valid = valid.merge(valid_qrel, how='left', on=['userId','itemId']).rename({'rating':'label'}, axis=1)\n",
    "valid['label'] = valid['label'].fillna(0)\n",
    "print(valid.shape)"
   ]
  },
  {
   "cell_type": "markdown",
   "id": "lightweight-tobago",
   "metadata": {},
   "source": [
    "# 训练&预测"
   ]
  },
  {
   "cell_type": "code",
   "execution_count": 8,
   "id": "lesbian-shopper",
   "metadata": {},
   "outputs": [
    {
     "name": "stdout",
     "output_type": "stream",
     "text": [
      "Training until validation scores don't improve for 100 rounds\n",
      "Early stopping, best iteration is:\n",
      "[103]\ttraining's auc: 0.937751\ttraining's binary_logloss: 0.0250958\tvalid_1's auc: 0.892234\tvalid_1's binary_logloss: 0.0284825\n",
      "Fold  1 AUC : 0.892234\n",
      "Training until validation scores don't improve for 100 rounds\n",
      "Early stopping, best iteration is:\n",
      "[81]\ttraining's auc: 0.932008\ttraining's binary_logloss: 0.0258244\tvalid_1's auc: 0.890189\tvalid_1's binary_logloss: 0.02767\n",
      "Fold  2 AUC : 0.890189\n",
      "Training until validation scores don't improve for 100 rounds\n",
      "Early stopping, best iteration is:\n",
      "[99]\ttraining's auc: 0.935478\ttraining's binary_logloss: 0.025266\tvalid_1's auc: 0.891585\tvalid_1's binary_logloss: 0.0280631\n",
      "Fold  3 AUC : 0.891585\n",
      "=====Full AUC score 0.891279=====\n"
     ]
    }
   ],
   "source": [
    "train = valid\n",
    "y = train['label']\n",
    "folds = KFold(n_splits=3, shuffle=True, random_state=546789)\n",
    "s_folds = StratifiedKFold(n_splits=3, shuffle=True, random_state=546789)\n",
    "oof_preds, test_preds, importances = train_model_lgb(train, test, y, s_folds)"
   ]
  },
  {
   "cell_type": "code",
   "execution_count": 9,
   "id": "black-burst",
   "metadata": {
    "scrolled": true
   },
   "outputs": [],
   "source": [
    "run_dir = './baseline_outputs/sample_run/'"
   ]
  },
  {
   "cell_type": "code",
   "execution_count": 10,
   "id": "civil-lighting",
   "metadata": {},
   "outputs": [],
   "source": [
    "test_preds.sort_values(by=['userId', 'score'], ascending=[True, False], inplace=True)\n",
    "oof_preds.sort_values(by=['userId', 'score'], ascending=[True, False], inplace=True)\n",
    "\n",
    "test_preds.to_csv(run_dir+f'{tgt_market}/test_pred.tsv', sep='\\t', index=False)\n",
    "oof_preds.to_csv(run_dir+f'{tgt_market}/valid_pred.tsv', sep='\\t', index=False)"
   ]
  }
 ],
 "metadata": {
  "kernelspec": {
   "display_name": "Python 3",
   "language": "python",
   "name": "python3"
  },
  "language_info": {
   "codemirror_mode": {
    "name": "ipython",
    "version": 3
   },
   "file_extension": ".py",
   "mimetype": "text/x-python",
   "name": "python",
   "nbconvert_exporter": "python",
   "pygments_lexer": "ipython3",
   "version": "3.7.11"
  }
 },
 "nbformat": 4,
 "nbformat_minor": 5
}
