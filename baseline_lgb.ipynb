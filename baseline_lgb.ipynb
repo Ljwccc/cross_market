{
 "cells": [
  {
   "cell_type": "code",
   "execution_count": 1,
   "id": "engaged-blogger",
   "metadata": {},
   "outputs": [
    {
     "name": "stdout",
     "output_type": "stream",
     "text": [
      "INFO: Pandarallel will run on 8 workers.\n",
      "INFO: Pandarallel will use Memory file system to transfer data between the main process and workers.\n"
     ]
    }
   ],
   "source": [
    "import matplotlib.pyplot as plt\n",
    "import seaborn as sns\n",
    "import gc\n",
    "import re\n",
    "import pandas as pd\n",
    "# import optuna.integration.lightgbm as lgb  # 调参用\n",
    "from lightgbm import LGBMClassifier\n",
    "import numpy as np\n",
    "from sklearn.metrics import roc_auc_score, precision_recall_curve, roc_curve, average_precision_score, f1_score\n",
    "from sklearn.model_selection import KFold, StratifiedKFold\n",
    "\n",
    "import math\n",
    "from collections import defaultdict\n",
    "from gensim.models import Word2Vec\n",
    "from tqdm import tqdm\n",
    "import os\n",
    "from tree_utils import *\n",
    "from tree_model import *\n",
    "\n",
    "import joblib\n",
    "import random\n",
    "\n",
    "import warnings\n",
    "warnings.filterwarnings(\"ignore\")\n",
    "\n",
    "tqdm.pandas(desc='pandas bar')\n",
    "\n",
    "pd.set_option('max_columns', None)\n",
    "pd.set_option('max_rows', 300)\n",
    "pd.set_option('float_format', lambda x: '%.3f' % x)\n",
    "\n",
    "tgt_market = 't1'\n",
    "src_market = 's1'\n",
    "tgt_data_dir = f'./DATA/{tgt_market}/'\n",
    "src_data_dir = f'./DATA/{src_market}/'"
   ]
  },
  {
   "cell_type": "code",
   "execution_count": 2,
   "id": "material-egypt",
   "metadata": {},
   "outputs": [
    {
     "name": "stdout",
     "output_type": "stream",
     "text": [
      "train user_num: 9742 ,item_num: 3429\n",
      "train_5core user_num: 2697, item_num: 1357\n",
      "all train user_num: 9955, item_num: 3543\n",
      "(68418, 3)\n"
     ]
    }
   ],
   "source": [
    "train = pd.read_table(tgt_data_dir+'train.tsv')\n",
    "print('train user_num: {} ,item_num: {}'.format(train['userId'].nunique(), train['itemId'].nunique()))\n",
    "train_5core = pd.read_table(tgt_data_dir+'train_5core.tsv')\n",
    "print('train_5core user_num: {}, item_num: {}'.format(train_5core['userId'].nunique(), train_5core['itemId'].nunique()))\n",
    "valid_qrel = pd.read_table(tgt_data_dir+'valid_qrel.tsv')            # 用于生成负样本\n",
    "# train_semi = pd.read_csv(tgt_data_dir+'train_semi.csv')\n",
    "\n",
    "\n",
    "\n",
    "train_cross = train_5core.merge(train, on=['userId', 'itemId'], how='left')\n",
    "train_cross = train_cross[train_cross['rating_y'].isnull()][['userId', 'itemId']]\n",
    "train_cross['rating'] = 5\n",
    "train = pd.concat([train, train_cross, train_cross, train_cross, train_cross, train_cross], ignore_index=True)\n",
    "print('all train user_num: {}, item_num: {}'.format(train['userId'].nunique(), train['itemId'].nunique()))\n",
    "print(train.shape)\n",
    "\n",
    "expand_df = train_5core[['userId', 'itemId']]\n",
    "expand_df['label'] = 1\n",
    "# expand_df = instance_expand_data(train_5core.copy(), pd.concat([train.copy(), valid_qrel], ignore_index=True))  # 为train_5core中的每个userid添加100个负样本 \n",
    "# s1数据\n",
    "# train_s1 = pd.read_table(src_data_dir+'train.tsv')\n",
    "# train_5core_s1 = pd.read_table(src_data_dir+'train_5core.tsv')\n",
    "\n",
    "# train_cross_s1 = train_5core_s1.merge(train, on=['userId', 'itemId'], how='left')\n",
    "# train_5core_s1 = train_cross_s1[train_cross_s1['rating_y'].isnull()][['userId', 'itemId']]\n",
    "\n",
    "# train_s1 = pd.concat([train_s1, train_5core_s1, train_5core_s1, train_5core_s1, train_5core_s1, train_5core_s1], ignore_index=True)"
   ]
  },
  {
   "cell_type": "code",
   "execution_count": 3,
   "id": "laughing-certificate",
   "metadata": {},
   "outputs": [
    {
     "data": {
      "text/html": [
       "<div>\n",
       "<style scoped>\n",
       "    .dataframe tbody tr th:only-of-type {\n",
       "        vertical-align: middle;\n",
       "    }\n",
       "\n",
       "    .dataframe tbody tr th {\n",
       "        vertical-align: top;\n",
       "    }\n",
       "\n",
       "    .dataframe thead th {\n",
       "        text-align: right;\n",
       "    }\n",
       "</style>\n",
       "<table border=\"1\" class=\"dataframe\">\n",
       "  <thead>\n",
       "    <tr style=\"text-align: right;\">\n",
       "      <th></th>\n",
       "      <th>userId</th>\n",
       "      <th>itemId</th>\n",
       "      <th>rating</th>\n",
       "    </tr>\n",
       "  </thead>\n",
       "  <tbody>\n",
       "    <tr>\n",
       "      <th>0</th>\n",
       "      <td>t1U1006129</td>\n",
       "      <td>P1016853</td>\n",
       "      <td>5.000</td>\n",
       "    </tr>\n",
       "    <tr>\n",
       "      <th>1</th>\n",
       "      <td>t1U1002135</td>\n",
       "      <td>P1019605</td>\n",
       "      <td>5.000</td>\n",
       "    </tr>\n",
       "    <tr>\n",
       "      <th>2</th>\n",
       "      <td>t1U1006710</td>\n",
       "      <td>P1032538</td>\n",
       "      <td>5.000</td>\n",
       "    </tr>\n",
       "    <tr>\n",
       "      <th>3</th>\n",
       "      <td>t1U1007418</td>\n",
       "      <td>P1012632</td>\n",
       "      <td>5.000</td>\n",
       "    </tr>\n",
       "    <tr>\n",
       "      <th>4</th>\n",
       "      <td>t1U1008062</td>\n",
       "      <td>P1022775</td>\n",
       "      <td>5.000</td>\n",
       "    </tr>\n",
       "  </tbody>\n",
       "</table>\n",
       "</div>"
      ],
      "text/plain": [
       "       userId    itemId  rating\n",
       "0  t1U1006129  P1016853   5.000\n",
       "1  t1U1002135  P1019605   5.000\n",
       "2  t1U1006710  P1032538   5.000\n",
       "3  t1U1007418  P1012632   5.000\n",
       "4  t1U1008062  P1022775   5.000"
      ]
     },
     "execution_count": 3,
     "metadata": {},
     "output_type": "execute_result"
    }
   ],
   "source": [
    "train.head()"
   ]
  },
  {
   "cell_type": "markdown",
   "id": "polished-boutique",
   "metadata": {},
   "source": [
    "# 提取用户侧和物品侧的特征"
   ]
  },
  {
   "cell_type": "code",
   "execution_count": 4,
   "id": "loaded-allergy",
   "metadata": {},
   "outputs": [],
   "source": [
    "# 转成列表\n",
    "user_feature_list = train.groupby(\"userId\").agg(item_list=(\"itemId\", list), rating_list=(\"rating\", list)).reset_index()\n",
    "item_feature_list = train.groupby(\"itemId\").agg(user_list=(\"userId\", list), rating_list=(\"rating\", list)).reset_index()"
   ]
  },
  {
   "cell_type": "markdown",
   "id": "banner-infrared",
   "metadata": {},
   "source": [
    "# 构建训练集和测试集"
   ]
  },
  {
   "cell_type": "markdown",
   "id": "fluid-flood",
   "metadata": {},
   "source": [
    "## 构建验证集&测试集"
   ]
  },
  {
   "cell_type": "code",
   "execution_count": 5,
   "id": "acquired-street",
   "metadata": {},
   "outputs": [
    {
     "name": "stdout",
     "output_type": "stream",
     "text": [
      "find w2v model\n",
      "find w2v model\n",
      "(269700, 3)\n",
      "(269700, 97)\n",
      "(269700, 97)\n"
     ]
    }
   ],
   "source": [
    "def load_market_valid_run(valid_run_file):  # 把一行item_id分别拆到user_id中,构成<user_id,item_id>pair\n",
    "    users, items = [], []\n",
    "    with open(valid_run_file, 'r') as f:\n",
    "        for line in f:\n",
    "            linetoks = line.split('\\t')\n",
    "            user_id = linetoks[0]\n",
    "            item_ids = linetoks[1].strip().split(',')\n",
    "            for cindex, item_id in enumerate(item_ids):\n",
    "                users.append(user_id)\n",
    "                items.append(item_id)\n",
    "\n",
    "    return users, items\n",
    "\n",
    "# 提取特征\n",
    "user_feature, item_feature = get_static_feat(train.copy(), user_feature_list.copy(), item_feature_list.copy())  # 统计特征\n",
    "user_embed = emb(train.copy(), 'userId', 'itemId', tgt_market, mode='agg')                                      # embed特征\n",
    "item_embed = emb(train.copy(), 'userId', 'itemId', tgt_market, mode='single')                                   # embed特征\n",
    "user_tfidf, item_tfidf = get_tfidf(user_feature_list.copy(), item_feature_list.copy())                          # tfidf特征\n",
    "#########################################验证集#########################################\n",
    "user_ids, item_ids = load_market_valid_run(tgt_data_dir+'valid_run.tsv')\n",
    "valid = pd.DataFrame(columns=['userId','itemId'])\n",
    "valid['userId'] = user_ids\n",
    "valid['itemId'] = item_ids\n",
    "\n",
    "# 半监督数据\n",
    "# valid_semi = pd.read_csv(tgt_data_dir+'valid_semi.csv')\n",
    "# valid_semi['label'] = 1\n",
    "# 把label merge上去\n",
    "valid_qrel = pd.read_table(tgt_data_dir+'valid_qrel.tsv').rename({'rating':'label'}, axis=1)\n",
    "valid = valid.merge(valid_qrel, how='left', on=['userId','itemId'])   # 给正样本加上label\n",
    "valid['label'] = valid['label'].fillna(0)                            # 负样本加label\n",
    "print(valid.shape)\n",
    "\n",
    "# 合并额外数据\n",
    "# expand_df['is_expand'] = 1  # 用来标识是否是外来数据\n",
    "# valid = pd.concat([valid, expand_df], ignore_index=True)\n",
    "# print(valid.shape)\n",
    "# 合并统计特征\n",
    "valid = valid.merge(user_feature, on='userId',how='left')\n",
    "valid = valid.merge(item_feature, on='itemId',how='left')\n",
    "# 合并w2v特征\n",
    "valid = valid.merge(user_embed, on='userId',how='left')\n",
    "valid = valid.merge(item_embed, on='itemId',how='left')\n",
    "# 合并item的tfidf特征\n",
    "valid = valid.merge(item_tfidf, on='itemId',how='left')\n",
    "\n",
    "\n",
    "#########################################测试集#########################################\n",
    "user_ids, item_ids = load_market_valid_run(tgt_data_dir+'test_run.tsv')\n",
    "test = pd.DataFrame(columns=['userId','itemId'])\n",
    "test['userId'] = user_ids\n",
    "test['itemId'] = item_ids\n",
    "# 合并统计特征\n",
    "test = test.merge(user_feature, on='userId',how='left')\n",
    "test = test.merge(item_feature, on='itemId',how='left')\n",
    "# 合并w2v特征\n",
    "test = test.merge(user_embed, on='userId',how='left')\n",
    "test = test.merge(item_embed, on='itemId',how='left')\n",
    "# 合并tfidf特征\n",
    "test = test.merge(item_tfidf, on='itemId',how='left')\n",
    "print(valid.shape)\n",
    "# 合并嫁接学习分数特征 \n",
    "# transfer_feat_s1 = pd.read_csv(f'./transfer_data/s1_{tgt_market}_guide.csv')   # 超级过拟合\n",
    "# transfer_feat_s1 = pd.read_csv(f'./transfer_data/s1_{tgt_market}_transfer.csv').drop_duplicates(subset=['userId', 'itemId'],keep='first')\n",
    "# transfer_feat_s2 = pd.read_csv(f'./transfer_data/s2_{tgt_market}_transfer.csv').drop_duplicates(subset=['userId', 'itemId'],keep='first')\n",
    "# transfer_feat_s3 = pd.read_csv(f'./transfer_data/s3_{tgt_market}_transfer.csv').drop_duplicates(subset=['userId', 'itemId'],keep='first')\n",
    "\n",
    "# valid = valid.merge(transfer_feat_s1, on=['userId', 'itemId'],how='left') # .drop_duplicates(subset=['userId', 'itemId'],keep='first')\n",
    "# test = test.merge(transfer_feat_s1, on=['userId', 'itemId'],how='left')\n",
    "\n",
    "# valid = valid.merge(transfer_feat_s2, on=['userId', 'itemId'],how='left')\n",
    "# test = test.merge(transfer_feat_s2, on=['userId', 'itemId'],how='left')\n",
    "\n",
    "# valid = valid.merge(transfer_feat_s3, on=['userId', 'itemId'],how='left')\n",
    "# test = test.merge(transfer_feat_s3, on=['userId', 'itemId'],how='left')\n",
    "print(valid.shape)\n"
   ]
  },
  {
   "cell_type": "code",
   "execution_count": 6,
   "id": "b6c7bc38",
   "metadata": {},
   "outputs": [
    {
     "name": "stderr",
     "output_type": "stream",
     "text": [
      "100%|██████████| 9955/9955 [00:00<00:00, 18832.21it/s]\n",
      "100%|██████████| 3543/3543 [00:00<00:00, 43167.02it/s]\n",
      "100%|██████████| 9955/9955 [00:00<00:00, 20133.31it/s]\n",
      "100%|██████████| 3543/3543 [00:00<00:00, 40555.92it/s]\n"
     ]
    },
    {
     "name": "stdout",
     "output_type": "stream",
     "text": [
      "(269700, 100)\n"
     ]
    }
   ],
   "source": [
    "# 合并item_cf特征\n",
    "# valid_cf = get_sim_feature(train.copy(), valid[valid['is_expand']!=1].copy())\n",
    "valid_cf = get_sim_feature(train.copy(), valid.copy())\n",
    "test_cf = get_sim_feature(train.copy(), test.copy())\n",
    "valid = valid.merge(valid_cf, how='left', on=['userId','itemId'])\n",
    "test = test.merge(test_cf, how='left', on=['userId','itemId'])\n",
    "print(valid.shape)\n",
    "\n",
    "# 合并item_cf_rating特征\n",
    "# valid_cf_rating = item_cf_with_rating(train.copy(), valid.copy())  # 有许多重复项\n",
    "# test_cf_rating = item_cf_with_rating(train.copy(), test.copy())\n",
    "# valid = valid.merge(valid_cf_rating, how='left', on=['userId','itemId']) # .drop_duplicates(subset=['userId', 'itemId'],keep='first')\n",
    "# test = test.merge(test_cf_rating, how='left', on=['userId','itemId'])\n",
    "# print(valid.shape)\n",
    "\n",
    "# 从source市场中获取item_cf特征\n",
    "# valid_cf_s = get_source_item_cf(train.copy(), train_s1.copy(), valid.copy())\n",
    "# test_cf_s = get_source_item_cf(train.copy(), train_s1.copy(), test.copy())\n",
    "# valid = valid.merge(valid_cf_s, how='left', on=['userId','itemId'])\n",
    "# test = test.merge(test_cf_s, how='left', on=['userId','itemId'])\n",
    "# print(valid.shape)"
   ]
  },
  {
   "cell_type": "code",
   "execution_count": 7,
   "id": "c009ae2d",
   "metadata": {},
   "outputs": [],
   "source": [
    "# # 合并deepwalk特征\n",
    "# deepwalk_emb = pd.read_csv(f'./deepwalk_{tgt_market}.csv')\n",
    "# # valid = valid.merge(deepwalk_emb.rename({'id':'userId'}, axis=1), how='left', on='userId')\n",
    "# valid = valid.merge(deepwalk_emb.rename({'id':'itemId'}, axis=1), how='left', on='itemId')\n",
    "\n",
    "# # test = test.merge(deepwalk_emb.rename({'id':'userId'}, axis=1), how='left', on='userId')\n",
    "# test = test.merge(deepwalk_emb.rename({'id':'itemId'}, axis=1), how='left', on='itemId')"
   ]
  },
  {
   "cell_type": "markdown",
   "id": "lightweight-tobago",
   "metadata": {},
   "source": [
    "# 训练&预测"
   ]
  },
  {
   "cell_type": "code",
   "execution_count": 8,
   "id": "lesbian-shopper",
   "metadata": {},
   "outputs": [
    {
     "name": "stdout",
     "output_type": "stream",
     "text": [
      "Training until validation scores don't improve for 100 rounds\n",
      "Early stopping, best iteration is:\n",
      "[67]\ttraining's auc: 0.969968\ttraining's binary_logloss: 0.0202811\tvalid_1's auc: 0.926544\tvalid_1's binary_logloss: 0.0247597\n",
      "Fold  1 AUC : 0.926544\n",
      "Training until validation scores don't improve for 100 rounds\n",
      "Early stopping, best iteration is:\n",
      "[84]\ttraining's auc: 0.975003\ttraining's binary_logloss: 0.0197503\tvalid_1's auc: 0.9325\tvalid_1's binary_logloss: 0.023945\n",
      "Fold  2 AUC : 0.932500\n",
      "Training until validation scores don't improve for 100 rounds\n",
      "Early stopping, best iteration is:\n",
      "[89]\ttraining's auc: 0.977471\ttraining's binary_logloss: 0.0197396\tvalid_1's auc: 0.926959\tvalid_1's binary_logloss: 0.0238964\n",
      "Fold  3 AUC : 0.926959\n",
      "=====Full AUC score 0.928576=====\n"
     ]
    },
    {
     "data": {
      "image/png": "[encoded data removed]",
      "text/plain": [
       "<Figure size 576x720 with 1 Axes>"
      ]
     },
     "metadata": {
      "needs_background": "light"
     },
     "output_type": "display_data"
    }
   ],
   "source": [
    "train = valid\n",
    "valid_semi = None\n",
    "# train = valid[valid['is_expand']!=1]\n",
    "# valid_semi = valid[valid['is_expand']==1]\n",
    "# print(valid.shape)\n",
    "# print(train.shape)\n",
    "# print(valid_semi.shape)\n",
    "\n",
    "y = train['label']\n",
    "s_folds = StratifiedKFold(n_splits=3, shuffle=True, random_state=546789)\n",
    "\n",
    "oof_preds_lgb, test_preds_lgb, importances = train_model_lgb(train.copy(), test, y, s_folds, semi_data_=valid_semi)\n",
    "# oof_preds_cat, test_preds_cat, importances = train_model_cat(train, test, y, s_folds, semi_data_=None)\n",
    "\n",
    "test_preds = test_preds_lgb\n",
    "# test_preds = test_preds_lgb[['userId', 'itemId']]\n",
    "# test_preds['score'] = (test_preds_cat['score']+test_preds_lgb['score'])/2\n",
    "\n",
    "oof_preds = oof_preds_lgb\n",
    "# oof_preds = oof_preds_lgb[['userId', 'itemId']]\n",
    "# oof_preds['score'] = (oof_preds_cat['score']+oof_preds_lgb['score'])/2\n",
    "\n",
    "importances = importances[~importances['feature'].str.contains('emb')]\n",
    "display_importances(importances)"
   ]
  },
  {
   "cell_type": "code",
   "execution_count": 9,
   "id": "82546b7b",
   "metadata": {},
   "outputs": [],
   "source": [
    "# train.groupby('userId')['itemId'].count()"
   ]
  },
  {
   "cell_type": "code",
   "execution_count": 10,
   "id": "black-burst",
   "metadata": {
    "scrolled": true
   },
   "outputs": [],
   "source": [
    "run_dir = './baseline_outputs/sample_run/'"
   ]
  },
  {
   "cell_type": "code",
   "execution_count": 11,
   "id": "civil-lighting",
   "metadata": {},
   "outputs": [],
   "source": [
    "test_preds.sort_values(by=['userId', 'score'], ascending=[True, False], inplace=True)\n",
    "oof_preds.sort_values(by=['userId', 'score'], ascending=[True, False], inplace=True)\n",
    "\n",
    "# 低置信度使用热度item填充\n",
    "# 验证集\n",
    "# vaild_qrel = pd.read_table(tgt_data_dir+'valid_qrel.tsv')    # 真实交互\n",
    "# valid_run = pd.read_csv(tgt_data_dir+'valid_run.tsv', sep='\\t', header=None) # 验证样本\n",
    "# valid_run.columns = ['userId','itemIds']\n",
    "# vaild_hot_result, error_list = get_hot_reslut(vaild_qrel.copy(), oof_preds.copy(), valid_run.copy(), train.copy())\n",
    "# oof_preds = pd.concat([vaild_hot_result, oof_preds[~oof_preds['userId'].isin(error_list)]], ignore_index=True)\n",
    "\n",
    "# # 测试集\n",
    "# test_run = pd.read_csv(tgt_data_dir+'test_run.tsv', sep='\\t', header=None) # 验证样本\n",
    "# test_run.columns = ['userId','itemIds']\n",
    "# test_hot_result, error_list = get_hot_reslut(vaild_qrel.copy(), oof_preds.copy(), test_run.copy(), train.copy())\n",
    "# test_preds = pd.concat([test_hot_result, test_preds[~test_preds['userId'].isin(error_list)]], ignore_index=True)\n",
    "\n",
    "\n",
    "test_preds.to_csv(run_dir+f'{tgt_market}/test_pred.tsv', sep='\\t', index=False)\n",
    "oof_preds.to_csv(run_dir+f'{tgt_market}/valid_pred.tsv', sep='\\t', index=False)"
   ]
  },
  {
   "cell_type": "code",
   "execution_count": null,
   "id": "de1ee90c",
   "metadata": {},
   "outputs": [],
   "source": [
    "# 保存置信度高的结果用于训练\n",
    "# test_preds[test_preds['score']>0.9][['userId', 'itemId']].to_csv(tgt_data_dir+'valid_semi.csv', index=None)"
   ]
  },
  {
   "cell_type": "code",
   "execution_count": null,
   "id": "8782d605",
   "metadata": {},
   "outputs": [],
   "source": []
  },
  {
   "cell_type": "code",
   "execution_count": null,
   "id": "e2e024c0",
   "metadata": {},
   "outputs": [
    {
     "data": {
      "text/html": [
       "<div>\n",
       "<style scoped>\n",
       "    .dataframe tbody tr th:only-of-type {\n",
       "        vertical-align: middle;\n",
       "    }\n",
       "\n",
       "    .dataframe tbody tr th {\n",
       "        vertical-align: top;\n",
       "    }\n",
       "\n",
       "    .dataframe thead th {\n",
       "        text-align: right;\n",
       "    }\n",
       "</style>\n",
       "<table border=\"1\" class=\"dataframe\">\n",
       "  <thead>\n",
       "    <tr style=\"text-align: right;\">\n",
       "      <th></th>\n",
       "      <th>userId</th>\n",
       "      <th>itemId</th>\n",
       "      <th>score</th>\n",
       "    </tr>\n",
       "  </thead>\n",
       "  <tbody>\n",
       "    <tr>\n",
       "      <th>71111</th>\n",
       "      <td>t1U1000001</td>\n",
       "      <td>P1000590</td>\n",
       "      <td>0.984</td>\n",
       "    </tr>\n",
       "    <tr>\n",
       "      <th>71114</th>\n",
       "      <td>t1U1000001</td>\n",
       "      <td>P1023655</td>\n",
       "      <td>0.015</td>\n",
       "    </tr>\n",
       "    <tr>\n",
       "      <th>71124</th>\n",
       "      <td>t1U1000001</td>\n",
       "      <td>P1003497</td>\n",
       "      <td>0.008</td>\n",
       "    </tr>\n",
       "    <tr>\n",
       "      <th>71120</th>\n",
       "      <td>t1U1000001</td>\n",
       "      <td>P1013187</td>\n",
       "      <td>0.007</td>\n",
       "    </tr>\n",
       "    <tr>\n",
       "      <th>71158</th>\n",
       "      <td>t1U1000001</td>\n",
       "      <td>P1021703</td>\n",
       "      <td>0.006</td>\n",
       "    </tr>\n",
       "    <tr>\n",
       "      <th>...</th>\n",
       "      <td>...</td>\n",
       "      <td>...</td>\n",
       "      <td>...</td>\n",
       "    </tr>\n",
       "    <tr>\n",
       "      <th>263909</th>\n",
       "      <td>t1U1009954</td>\n",
       "      <td>P1025730</td>\n",
       "      <td>0.000</td>\n",
       "    </tr>\n",
       "    <tr>\n",
       "      <th>263957</th>\n",
       "      <td>t1U1009954</td>\n",
       "      <td>P1008134</td>\n",
       "      <td>0.000</td>\n",
       "    </tr>\n",
       "    <tr>\n",
       "      <th>263938</th>\n",
       "      <td>t1U1009954</td>\n",
       "      <td>P1003943</td>\n",
       "      <td>0.000</td>\n",
       "    </tr>\n",
       "    <tr>\n",
       "      <th>263903</th>\n",
       "      <td>t1U1009954</td>\n",
       "      <td>P1024982</td>\n",
       "      <td>0.000</td>\n",
       "    </tr>\n",
       "    <tr>\n",
       "      <th>263966</th>\n",
       "      <td>t1U1009954</td>\n",
       "      <td>P1026749</td>\n",
       "      <td>0.000</td>\n",
       "    </tr>\n",
       "  </tbody>\n",
       "</table>\n",
       "<p>269700 rows × 3 columns</p>\n",
       "</div>"
      ],
      "text/plain": [
       "            userId    itemId  score\n",
       "71111   t1U1000001  P1000590  0.984\n",
       "71114   t1U1000001  P1023655  0.015\n",
       "71124   t1U1000001  P1003497  0.008\n",
       "71120   t1U1000001  P1013187  0.007\n",
       "71158   t1U1000001  P1021703  0.006\n",
       "...            ...       ...    ...\n",
       "263909  t1U1009954  P1025730  0.000\n",
       "263957  t1U1009954  P1008134  0.000\n",
       "263938  t1U1009954  P1003943  0.000\n",
       "263903  t1U1009954  P1024982  0.000\n",
       "263966  t1U1009954  P1026749  0.000\n",
       "\n",
       "[269700 rows x 3 columns]"
      ]
     },
     "execution_count": 13,
     "metadata": {},
     "output_type": "execute_result"
    }
   ],
   "source": [
    "test_preds"
   ]
  }
 ],
 "metadata": {
  "kernelspec": {
   "display_name": "Python 3",
   "language": "python",
   "name": "python3"
  },
  "language_info": {
   "codemirror_mode": {
    "name": "ipython",
    "version": 3
   },
   "file_extension": ".py",
   "mimetype": "text/x-python",
   "name": "python",
   "nbconvert_exporter": "python",
   "pygments_lexer": "ipython3",
   "version": "3.7.11"
  }
 },
 "nbformat": 4,
 "nbformat_minor": 5
}
