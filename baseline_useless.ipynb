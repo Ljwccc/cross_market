{
 "cells": [
  {
   "cell_type": "code",
   "execution_count": 1,
   "id": "engaged-blogger",
   "metadata": {},
   "outputs": [
    {
     "name": "stdout",
     "output_type": "stream",
     "text": [
      "INFO: Pandarallel will run on 8 workers.\n",
      "INFO: Pandarallel will use Memory file system to transfer data between the main process and workers.\n"
     ]
    }
   ],
   "source": [
    "import matplotlib.pyplot as plt\n",
    "import seaborn as sns\n",
    "import gc\n",
    "import re\n",
    "import pandas as pd\n",
    "# import optuna.integration.lightgbm as lgb  # 调参用\n",
    "from lightgbm import LGBMClassifier\n",
    "import numpy as np\n",
    "from sklearn.metrics import roc_auc_score, precision_recall_curve, roc_curve, average_precision_score, f1_score\n",
    "from sklearn.model_selection import KFold, StratifiedKFold\n",
    "\n",
    "import math\n",
    "from collections import defaultdict\n",
    "from gensim.models import Word2Vec\n",
    "from tqdm import tqdm\n",
    "import os\n",
    "\n",
    "import joblib\n",
    "import random\n",
    "\n",
    "import warnings\n",
    "warnings.filterwarnings(\"ignore\")\n",
    "\n",
    "tqdm.pandas(desc='pandas bar')\n",
    "\n",
    "pd.set_option('max_columns', None)\n",
    "pd.set_option('max_rows', 300)\n",
    "pd.set_option('float_format', lambda x: '%.3f' % x)\n",
    "\n",
    "from pandarallel import pandarallel\n",
    "pandarallel.initialize(nb_workers=8)\n",
    "\n",
    "tgt_market = 't1'\n",
    "data_dir = f'./DATA/{tgt_market}/'\n",
    "neg_num = 20"
   ]
  },
  {
   "cell_type": "code",
   "execution_count": 2,
   "id": "material-egypt",
   "metadata": {},
   "outputs": [
    {
     "name": "stdout",
     "output_type": "stream",
     "text": [
      "(68418, 3)\n"
     ]
    }
   ],
   "source": [
    "train = pd.read_table(data_dir+'train.tsv')\n",
    "train_5core = pd.read_table(data_dir+'train_5core.tsv')\n",
    "\n",
    "train_cross = train_5core.merge(train, on=['userId', 'itemId'], how='left')\n",
    "train_5core = train_cross[train_cross['rating_y'].isnull()][['userId', 'itemId']]\n",
    "\n",
    "train = pd.concat([train, train_5core, train_5core, train_5core, train_5core, train_5core], ignore_index=True)\n",
    "print(train.shape)"
   ]
  },
  {
   "cell_type": "code",
   "execution_count": 3,
   "id": "laughing-certificate",
   "metadata": {},
   "outputs": [
    {
     "data": {
      "text/html": [
       "<div>\n",
       "<style scoped>\n",
       "    .dataframe tbody tr th:only-of-type {\n",
       "        vertical-align: middle;\n",
       "    }\n",
       "\n",
       "    .dataframe tbody tr th {\n",
       "        vertical-align: top;\n",
       "    }\n",
       "\n",
       "    .dataframe thead th {\n",
       "        text-align: right;\n",
       "    }\n",
       "</style>\n",
       "<table border=\"1\" class=\"dataframe\">\n",
       "  <thead>\n",
       "    <tr style=\"text-align: right;\">\n",
       "      <th></th>\n",
       "      <th>userId</th>\n",
       "      <th>itemId</th>\n",
       "      <th>rating</th>\n",
       "    </tr>\n",
       "  </thead>\n",
       "  <tbody>\n",
       "    <tr>\n",
       "      <th>0</th>\n",
       "      <td>t1U1006129</td>\n",
       "      <td>P1016853</td>\n",
       "      <td>5.000</td>\n",
       "    </tr>\n",
       "    <tr>\n",
       "      <th>1</th>\n",
       "      <td>t1U1002135</td>\n",
       "      <td>P1019605</td>\n",
       "      <td>5.000</td>\n",
       "    </tr>\n",
       "    <tr>\n",
       "      <th>2</th>\n",
       "      <td>t1U1006710</td>\n",
       "      <td>P1032538</td>\n",
       "      <td>5.000</td>\n",
       "    </tr>\n",
       "    <tr>\n",
       "      <th>3</th>\n",
       "      <td>t1U1007418</td>\n",
       "      <td>P1012632</td>\n",
       "      <td>5.000</td>\n",
       "    </tr>\n",
       "    <tr>\n",
       "      <th>4</th>\n",
       "      <td>t1U1008062</td>\n",
       "      <td>P1022775</td>\n",
       "      <td>5.000</td>\n",
       "    </tr>\n",
       "  </tbody>\n",
       "</table>\n",
       "</div>"
      ],
      "text/plain": [
       "       userId    itemId  rating\n",
       "0  t1U1006129  P1016853   5.000\n",
       "1  t1U1002135  P1019605   5.000\n",
       "2  t1U1006710  P1032538   5.000\n",
       "3  t1U1007418  P1012632   5.000\n",
       "4  t1U1008062  P1022775   5.000"
      ]
     },
     "execution_count": 3,
     "metadata": {},
     "output_type": "execute_result"
    }
   ],
   "source": [
    "train.head()"
   ]
  },
  {
   "cell_type": "markdown",
   "id": "polished-boutique",
   "metadata": {},
   "source": [
    "# 提取用户侧和物品侧的特征"
   ]
  },
  {
   "cell_type": "code",
   "execution_count": 4,
   "id": "loaded-allergy",
   "metadata": {},
   "outputs": [],
   "source": [
    "# 转成列表\n",
    "user_feature = train.groupby(\"userId\").agg(\n",
    "    item_list=(\"itemId\", list),\n",
    "    rating_list=(\"rating\", list)\n",
    ").reset_index()\n",
    "\n",
    "item_feature = train.groupby(\"itemId\").agg(\n",
    "    user_list=(\"userId\", list),\n",
    "    rating_list=(\"rating\", list)\n",
    ").reset_index()"
   ]
  },
  {
   "cell_type": "code",
   "execution_count": 5,
   "id": "95a41df2",
   "metadata": {},
   "outputs": [],
   "source": [
    "# tfidf特征\n",
    "from sklearn.feature_extraction.text import TfidfVectorizer\n",
    "from sklearn.decomposition import PCA\n",
    "from sklearn.decomposition import TruncatedSVD\n",
    "\n",
    "emb_size = 32\n",
    "# user_feature['item_list_str'] = user_feature['item_list'].apply(lambda x:' '.join(x))\n",
    "\n",
    "# tfidf = TfidfVectorizer(ngram_range=(1,1))\n",
    "# user_tfidf = tfidf.fit_transform(user_feature['item_list_str'])\n",
    "# # pca = PCA(n_components=emb_size) # 初始化PCA\n",
    "# svd = TruncatedSVD(n_components=emb_size, random_state=2021)\n",
    "\n",
    "# # user_tfidf_pca = pca.fit_transform(user_tfidf.toarray())\n",
    "# user_tfidf_svd = svd.fit_transform(user_tfidf) # 返回降维后的数据\n",
    "\n",
    "# for i in range(emb_size):\n",
    "#     user_feature['user_tfidf_svd_emb_{}'.format(i)] = user_tfidf_svd[:, i]\n",
    "#     # user_feature['user_tfidf_pca_emb_{}'.format(i)] = user_tfidf_pca[:, i]\n",
    "    \n",
    "# user_feature = user_feature.drop(['item_list_str'],axis=1)"
   ]
  },
  {
   "cell_type": "code",
   "execution_count": 6,
   "id": "guided-oxford",
   "metadata": {},
   "outputs": [],
   "source": [
    "# 提取user侧和item侧的统计特征\n",
    "\n",
    "\n",
    "# 用户侧特征\n",
    "user_feature['item_num'] = user_feature['item_list'].apply(len)\n",
    "user_feature['item_nuique_num'] = user_feature['item_list'].apply(lambda x:len(set(x)))\n",
    "\n",
    "# user_feature['rating_sum_u'] = user_feature['rating_list'].apply(sum)\n",
    "# user_feature['rating_mean_u'] = user_feature['rating_list'].apply(np.mean)\n",
    "# user_feature['rating_std_u'] = user_feature['rating_list'].apply(np.std)\n",
    "\n",
    "# 商品侧特征user\n",
    "item_feature['user_num'] = item_feature['user_list'].apply(len)\n",
    "item_feature['user_nuique_num'] = item_feature['user_list'].apply(lambda x:len(set(x)))\n",
    "\n",
    "# item_feature['rating_sum_i'] = item_feature['rating_list'].apply(sum)\n",
    "# item_feature['rating_mean_i'] = item_feature['rating_list'].apply(np.mean)\n",
    "# item_feature['rating_std_i'] = item_feature['rating_list'].apply(np.std)\n",
    "\n",
    "# # 使用item/user交互过的user/item的特征序列的统计值代表item/user的特征\n",
    "user_feature = user_feature.drop(['item_list','rating_list'],axis=1)\n",
    "item_feature = item_feature.drop(['user_list','rating_list'],axis=1)\n",
    "\n",
    "train = train.merge(user_feature, on='userId',how='left')\n",
    "train = train.merge(item_feature, on='itemId',how='left')\n",
    "\n",
    "user_feature_col = user_feature.columns\n",
    "# 用户的商品序列特征，会把所有的特征翻倍\n",
    "for col in [col for col in item_feature.columns if col not in ['itemId']]:\n",
    "    user_by_item_tmp = train.groupby(['userId'],as_index=False)[col].agg({f'{col}_max':'max',\n",
    "                                                                          f'{col}_min':'min',\n",
    "                                                                          f'{col}_mean':'mean',\n",
    "                                                                          f'{col}_std':np.std,})\n",
    "    user_feature = user_feature.merge(user_by_item_tmp,on='userId',how='left')  \n",
    "\n",
    "# 商品的用户序列特征\n",
    "for col in [col for col in user_feature_col if col not in ['userId']+['user_tfidf_svd_emb_{}'.format(i) for i in range(emb_size)]]:\n",
    "    item_by_user_tmp = train.groupby(['itemId'],as_index=False)[col].agg({f'{col}_max':'max',\n",
    "                                                                          f'{col}_min':'min',\n",
    "                                                                          f'{col}_mean':'mean',\n",
    "                                                                          f'{col}_std':np.std,})\n",
    "    item_feature = item_feature.merge(item_by_user_tmp,on='itemId',how='left')"
   ]
  },
  {
   "cell_type": "code",
   "execution_count": 7,
   "id": "ddc78024",
   "metadata": {},
   "outputs": [
    {
     "data": {
      "text/plain": [
       "6.872727272727273"
      ]
     },
     "execution_count": 7,
     "metadata": {},
     "output_type": "execute_result"
    }
   ],
   "source": [
    "item_feature['user_num'].mean()\n",
    "user_feature['item_num'].mean()"
   ]
  },
  {
   "cell_type": "code",
   "execution_count": 8,
   "id": "902a1223",
   "metadata": {},
   "outputs": [
    {
     "name": "stdout",
     "output_type": "stream",
     "text": [
      "find w2v model\n",
      "find w2v model\n"
     ]
    }
   ],
   "source": [
    "# word2vec特征\n",
    "def emb(df, f1, f2, mode='agg'):\n",
    "    emb_size = 16\n",
    "    tmp = df.groupby(f1, as_index=False)[f2].agg({'{}_{}_list'.format(f1, f2): list})\n",
    "    sentences = tmp['{}_{}_list'.format(f1, f2)].values.tolist()\n",
    "    del tmp['{}_{}_list'.format(f1, f2)]\n",
    "    for i in range(len(sentences)):\n",
    "        sentences[i] = [str(x) for x in sentences[i]]\n",
    "\n",
    "    if os.path.exists(f'./w2v_{tgt_market}.model'):\n",
    "        print('find w2v model')\n",
    "        model = Word2Vec.load(f'./w2v_{tgt_market}.model')\n",
    "    else:\n",
    "        print('train w2v model')\n",
    "        model = Word2Vec(sentences, size=emb_size, window=50, min_count=5, sg=0, hs=0, seed=1, iter=5, workers=8)\n",
    "        model.save(f'./w2v_{tgt_market}.model')\n",
    "        \n",
    "\n",
    "    if mode=='agg':\n",
    "        emb_matrix = []\n",
    "        for seq in sentences:\n",
    "            vec = []\n",
    "            for w in seq:\n",
    "                if w in model.wv.vocab:\n",
    "                    vec.append(model.wv[w])\n",
    "            if len(vec) > 0:\n",
    "                emb_matrix.append(np.mean(vec, axis=0))\n",
    "            else:\n",
    "                emb_matrix.append([0] * emb_size)\n",
    "        emb_matrix = np.array(emb_matrix)\n",
    "        for i in range(emb_size):\n",
    "            tmp['{}_{}_emb_{}'.format(f1, f2, i)] = emb_matrix[:, i]\n",
    "        \n",
    "    else:\n",
    "        itemId2vec = {}\n",
    "        for itemId in model.wv.vocab:\n",
    "            itemId2vec[itemId] = model.wv[itemId]\n",
    "        tmp = pd.DataFrame(columns=[f2])\n",
    "        tmp[f2] = list(itemId2vec.keys())\n",
    "        emb_matrix = np.array(list(itemId2vec.values()))\n",
    "        for i in range(16):\n",
    "            tmp['{}_emb_{}'.format(f2, i)] = emb_matrix[:, i]\n",
    "    \n",
    "    return tmp\n",
    "\n",
    "# user和item均可做agg_emb和single_emb\n",
    "user_embed = emb(train.copy(), 'userId', 'itemId', mode='agg')\n",
    "# user_embed_single = single_emb(train.copy(), 'itemId', 'userId')\n",
    "\n",
    "# item_embed_agg = agg_emb(train.copy(), 'itemId', 'userId')\n",
    "item_embed = emb(train.copy(), 'userId', 'itemId', mode='single')\n",
    "\n",
    "# user_embed = user_embed_agg.merge(user_embed_single, on='userId', how='left')\n",
    "# item_embed = item_embed_agg.merge(item_embed_single, on='itemId', how='left')"
   ]
  },
  {
   "cell_type": "markdown",
   "id": "banner-infrared",
   "metadata": {},
   "source": [
    "# 构建训练集和测试集"
   ]
  },
  {
   "cell_type": "markdown",
   "id": "above-facial",
   "metadata": {},
   "source": [
    "## 构建训练集，未交互过的样本当作负样本"
   ]
  },
  {
   "cell_type": "code",
   "execution_count": 9,
   "id": "active-things",
   "metadata": {},
   "outputs": [],
   "source": [
    "# # 获取正样本\n",
    "# train_pos = train[['userId','itemId']]\n",
    "# train_pos['label'] = 1\n",
    "\n",
    "# # 获取负样本\n",
    "# item_pool = set(item_feature['itemId'])\n",
    "# by_userid_group = train_pos.groupby(\"userId\")['itemId']\n",
    "# user_df_ids = []\n",
    "# neg_item_df_ids = []\n",
    "# for userid, group_frame in tqdm(by_userid_group):\n",
    "#     pos_itemids = set(group_frame.values.tolist())   # 交互过的都是正样本\n",
    "#     neg_itemids = list(item_pool - pos_itemids)      # 没有交互过的都是负样本\n",
    "#     neg_item_df_ids += random.sample(neg_itemids, min(neg_num, len(neg_itemids)))\n",
    "#     user_df_ids += [userid]*min(neg_num, len(neg_itemids))\n",
    "\n",
    "# train_neg = pd.DataFrame(columns=['userId','itemId'])\n",
    "# train_neg['userId'] = user_df_ids\n",
    "# train_neg['itemId'] = neg_item_df_ids\n",
    "# train_neg['label'] = 0\n",
    "# train = train_pos.append(train_neg)\n",
    "\n",
    "# # 合并特征\n",
    "# train = train.merge(user_feature, on='userId',how='left')\n",
    "# train = train.merge(item_feature, on='itemId',how='left')\n",
    "# print(train.shape)"
   ]
  },
  {
   "cell_type": "code",
   "execution_count": 10,
   "id": "9b8b1088",
   "metadata": {},
   "outputs": [],
   "source": [
    "# train.head()"
   ]
  },
  {
   "cell_type": "markdown",
   "id": "fluid-flood",
   "metadata": {},
   "source": [
    "## 构建验证集&测试集"
   ]
  },
  {
   "cell_type": "code",
   "execution_count": 11,
   "id": "acquired-street",
   "metadata": {},
   "outputs": [],
   "source": [
    "def load_market_valid_run(valid_run_file):  # 把一行item_id分别拆到user_id中,构成<user_id,item_id>pair\n",
    "    users, items = [], []\n",
    "    with open(valid_run_file, 'r') as f:\n",
    "        for line in f:\n",
    "            linetoks = line.split('\\t')\n",
    "            user_id = linetoks[0]\n",
    "            item_ids = linetoks[1].strip().split(',')\n",
    "            for cindex, item_id in enumerate(item_ids):\n",
    "                users.append(user_id)\n",
    "                items.append(item_id)\n",
    "\n",
    "    return users, items\n",
    "\n",
    "# 验证集，同时也作为训练集\n",
    "user_ids, item_ids = load_market_valid_run(data_dir+'valid_run.tsv')\n",
    "valid = pd.DataFrame(columns=['userId','itemId'])\n",
    "valid['userId'] = user_ids\n",
    "valid['itemId'] = item_ids\n",
    "\n",
    "# 合并统计特征\n",
    "valid = valid.merge(user_feature, on='userId',how='left')\n",
    "valid = valid.merge(item_feature, on='itemId',how='left')\n",
    "# 合并w2v特征\n",
    "valid = valid.merge(user_embed, on='userId',how='left')\n",
    "valid = valid.merge(item_embed, on='itemId',how='left')\n",
    "\n",
    "# 测试集\n",
    "user_ids, item_ids = load_market_valid_run(data_dir+'test_run.tsv')\n",
    "test = pd.DataFrame(columns=['userId','itemId'])\n",
    "test['userId'] = user_ids\n",
    "test['itemId'] = item_ids\n",
    "# 合并统计特征\n",
    "test = test.merge(user_feature, on='userId',how='left')\n",
    "test = test.merge(item_feature, on='itemId',how='left')\n",
    "# 合并w2v特征\n",
    "test = test.merge(user_embed, on='userId',how='left')\n",
    "test = test.merge(item_embed, on='itemId',how='left')\n",
    "# test.isnull().sum()"
   ]
  },
  {
   "cell_type": "code",
   "execution_count": 12,
   "id": "426420a8",
   "metadata": {},
   "outputs": [
    {
     "name": "stderr",
     "output_type": "stream",
     "text": [
      "100%|██████████| 9955/9955 [00:00<00:00, 10656.15it/s]\n",
      "100%|██████████| 3543/3543 [00:00<00:00, 18752.71it/s]\n"
     ]
    }
   ],
   "source": [
    "# item_CF特征，获取当前item与用于交互过的物品相似度的最大值，最小值，均值，方差等特征\n",
    "def item_cf(df, user_col, item_col):  # train, 'itemId', 'userId'\n",
    "    user_item_ = df.groupby(user_col)[item_col].agg(list).reset_index()     # user的item列表\n",
    "    user_item_dict = dict(zip(user_item_[user_col], user_item_[item_col]))  # 变成字典\n",
    "    \n",
    "    sim_item = {}                                  # 里面存的又是字典\n",
    "    item_cnt = defaultdict(int)  \n",
    "    for user, items in tqdm(user_item_dict.items()):     # 这段逻辑是用户交互过的item之间的相似度为  1 / math.log(1 + len(items))\n",
    "        for item in items:                                                  \n",
    "            item_cnt[item] += 1                    # item出现的频次\n",
    "            sim_item.setdefault(item, {})          # 查找item键值，不存在设为空字典\n",
    "            for relate_item in items:  \n",
    "                if item == relate_item:            # item自身无相似度\n",
    "                    continue\n",
    "                \n",
    "                sim_item[item].setdefault(relate_item, 0)   # 如果不存在，先设为0\n",
    "                sim_item[item][relate_item] += 1 / math.log(1 + len(items))\n",
    "                \n",
    "    sim_item_corr = sim_item.copy()\n",
    "    for i, related_items in tqdm(sim_item.items()):     # 做个类似于归一化的计算\n",
    "        for j, cij in related_items.items():  \n",
    "            sim_item_corr[i][j] = cij / math.sqrt(item_cnt[i]*item_cnt[j])   # 相似度矩阵\n",
    "  \n",
    "    return sim_item_corr, user_item_\n",
    "\n",
    "sim_item_corr, user_item_list = item_cf(train.copy(), 'userId', 'itemId')\n",
    "# 返回待预测item与当前用户交互过的item的相似度列表\n",
    "def get_sim_list(cf_data):  # 相似度矩阵, user交互的item列表, 用户id\n",
    "\n",
    "    userId = cf_data['userId']\n",
    "    itemId = cf_data['itemId']\n",
    "    interacted_items = cf_data['itemId_list']   # 可能为空\n",
    "    sim_score_list = []\n",
    "    try:\n",
    "        for i in interacted_items:\n",
    "            try:\n",
    "                sim_score_list.append(sim_item_corr[itemId][i])\n",
    "            except:\n",
    "                sim_score_list.append(0)\n",
    "    except:\n",
    "        sim_score_list.append(0)\n",
    "\n",
    "    return sim_score_list         # 将预测的item与用户交互过的item的相似度列表返回\n",
    "\n",
    "# 返回用户交互过的item两两之间的相似度列表\n",
    "def get_innner_sim_list(itemId_list):  # 相似度矩阵, user交互的item列表, 用户id\n",
    "\n",
    "    innner_sim_score_list = []\n",
    "    for i in range(len(itemId_list)):\n",
    "        for j in range(i+1, len(itemId_list)):\n",
    "            try:\n",
    "                innner_sim_score_list.append(sim_item_corr[itemId_list[i]][itemId_list[j]])\n",
    "            except:\n",
    "                innner_sim_score_list.append(0)\n",
    "\n",
    "    return innner_sim_score_list         # 将预测的item与用户交互过的item的相似度列表返回\n",
    "# 验证集cf\n",
    "valid_cf = valid[['userId', 'itemId']]\n",
    "valid_cf = valid_cf.merge(user_item_list.rename({'itemId':'itemId_list'},axis=1), on='userId', how='left')\n",
    "valid_cf['sim_list'] = valid_cf.parallel_apply(lambda x:get_sim_list(x), axis=1)\n",
    "valid_cf['sim_mean'] = valid_cf['sim_list'].parallel_apply(np.mean)\n",
    "valid_cf['sim_max'] = valid_cf['sim_list'].parallel_apply(np.max)\n",
    "valid_cf['sim_min'] = valid_cf['sim_list'].parallel_apply(np.min)\n",
    "\n",
    "valid_cf['inner_sim_list'] = valid_cf['itemId_list'].parallel_apply(lambda x:get_innner_sim_list(x))\n",
    "# valid_cf['inner_sim_mean'] = valid_cf['inner_sim_list'].parallel_apply(np.mean)\n",
    "# valid_cf['inner_sim_max'] = valid_cf['inner_sim_list'].parallel_apply(np.max)\n",
    "# valid_cf['inner_sim_min'] = valid_cf['inner_sim_list'].parallel_apply(np.min)\n",
    "# valid_cf['inner_sim_std'] = valid_cf['inner_sim_list'].parallel_apply(np.std)\n",
    "\n",
    "valid_cf = valid_cf.drop(['itemId_list', 'sim_list', 'inner_sim_list'],axis=1)\n",
    "# 测试集cf\n",
    "test_cf = test[['userId', 'itemId']]\n",
    "test_cf = test_cf.merge(user_item_list.rename({'itemId':'itemId_list'},axis=1), on='userId', how='left')\n",
    "test_cf['sim_list'] = test_cf.parallel_apply(lambda x:get_sim_list(x), axis=1)\n",
    "test_cf['sim_mean'] = test_cf['sim_list'].parallel_apply(np.mean)\n",
    "test_cf['sim_max'] = test_cf['sim_list'].parallel_apply(np.max)\n",
    "test_cf['sim_min'] = test_cf['sim_list'].parallel_apply(np.min)\n",
    "\n",
    "test_cf['inner_sim_list'] = test_cf['itemId_list'].parallel_apply(lambda x:get_innner_sim_list(x))\n",
    "# test_cf['inner_sim_mean'] = test_cf['inner_sim_list'].parallel_apply(np.mean)\n",
    "# test_cf['inner_sim_max'] = test_cf['inner_sim_list'].parallel_apply(np.max)\n",
    "# test_cf['inner_sim_min'] = test_cf['inner_sim_list'].parallel_apply(np.min)\n",
    "# test_cf['inner_sim_std'] = test_cf['inner_sim_list'].parallel_apply(np.std)\n",
    "\n",
    "\n",
    "test_cf = test_cf.drop(['itemId_list', 'sim_list', 'inner_sim_list'],axis=1)"
   ]
  },
  {
   "cell_type": "code",
   "execution_count": 13,
   "id": "b6c7bc38",
   "metadata": {},
   "outputs": [],
   "source": [
    "# 合并item_cf特征\n",
    "valid = valid.merge(valid_cf, how='left', on=['userId','itemId'])\n",
    "test = test.merge(test_cf, how='left', on=['userId','itemId'])"
   ]
  },
  {
   "cell_type": "code",
   "execution_count": 14,
   "id": "1086b975",
   "metadata": {},
   "outputs": [
    {
     "name": "stdout",
     "output_type": "stream",
     "text": [
      "(269700, 58)\n"
     ]
    }
   ],
   "source": [
    "# 将valid的label merge上去\n",
    "valid_qrel = pd.read_table(data_dir+'valid_qrel.tsv')\n",
    "valid = valid.merge(valid_qrel, how='left', on=['userId','itemId']).rename({'rating':'label'}, axis=1)\n",
    "valid['label'] = valid['label'].fillna(0)\n",
    "print(valid.shape)\n",
    "# valid.isnull().sum()"
   ]
  },
  {
   "cell_type": "code",
   "execution_count": 15,
   "id": "unsigned-spank",
   "metadata": {},
   "outputs": [],
   "source": [
    "# lgb模型\n",
    "useless_cols = ['userId','itemId','label']\n",
    "def train_model_lgb(data_, test_, y_, folds_, cat_cols=None):\n",
    "    oof_preds = np.zeros(data_.shape[0])       # 验证集预测结果\n",
    "    sub_preds = np.zeros(test_.shape[0])       # 测试集预测结果\n",
    "    feature_importance_df = pd.DataFrame()\n",
    "    feats = [f for f in data_.columns if f not in useless_cols]\n",
    "   \n",
    "    \n",
    "    for n_fold, (trn_idx, val_idx) in enumerate(folds_.split(data_, y_)):\n",
    "        \n",
    "        trn_x, trn_y = data_[feats].iloc[trn_idx], y_.iloc[trn_idx]   # 训练集数据\n",
    "        val_x, val_y = data_[feats].iloc[val_idx], y_.iloc[val_idx]   # 验证集数据\n",
    "       \n",
    "        clf = LGBMClassifier(\n",
    "            n_estimators=4000,   # 4000\n",
    "            learning_rate=0.08,  # 0.08 \n",
    "            num_leaves=2**5,\n",
    "            colsample_bytree=0.8, # 0.8\n",
    "            subsample=0.9,        # 0.9\n",
    "            max_depth=5, \n",
    "            reg_alpha=.3,    # 0.3\n",
    "            reg_lambda=.3,   # 0.3\n",
    "            min_split_gain=.01,\n",
    "            min_child_weight=2,\n",
    "            silent=-1,\n",
    "            verbose=-1,\n",
    "            n_jobs=8,\n",
    "        )\n",
    "        \n",
    "        clf.fit(trn_x, trn_y, \n",
    "                eval_set= [(trn_x, trn_y), (val_x, val_y)], \n",
    "                eval_metric='auc', verbose=300, early_stopping_rounds=100,  # 这个参数有点小，可以再大一点\n",
    "                # categorical_feature = cat_cols\n",
    "               )\n",
    "        oof_preds[val_idx] = clf.predict_proba(val_x, num_iteration=clf.best_iteration_)[:, 1]   # 验证集结果\n",
    "        \n",
    "        \n",
    "        sub_preds += clf.predict_proba(test_[feats], num_iteration=clf.best_iteration_)[:, 1] / folds_.n_splits  # 测试集结果\n",
    "        \n",
    "        fold_importance_df = pd.DataFrame()\n",
    "        fold_importance_df[\"feature\"] = feats\n",
    "        fold_importance_df[\"importance\"] = clf.feature_importances_\n",
    "        fold_importance_df[\"fold\"] = n_fold + 1\n",
    "        feature_importance_df = pd.concat([feature_importance_df, fold_importance_df], axis=0)\n",
    "        \n",
    "        print('Fold %2d AUC : %.6f' % (n_fold + 1, roc_auc_score(val_y, oof_preds[val_idx])))\n",
    "        del clf, trn_x, trn_y, val_x, val_y\n",
    "        gc.collect()\n",
    "    \n",
    "    print('=====Full AUC score %.6f=====' % roc_auc_score(y_, oof_preds))\n",
    "    \n",
    "    test_['score'] = sub_preds\n",
    "    data_['score'] = oof_preds  # 验证集结果\n",
    "    \n",
    "    # valid_['score'] = val_preds\n",
    "\n",
    "    # return oof_preds, test_[['userId', 'itemId', 'score']], valid_[['userId', 'itemId', 'score']], feature_importance_df\n",
    "    return data_[['userId', 'itemId', 'score']], test_[['userId', 'itemId', 'score']], feature_importance_df"
   ]
  },
  {
   "cell_type": "markdown",
   "id": "lightweight-tobago",
   "metadata": {},
   "source": [
    "# 训练&预测"
   ]
  },
  {
   "cell_type": "code",
   "execution_count": 16,
   "id": "lesbian-shopper",
   "metadata": {},
   "outputs": [
    {
     "name": "stdout",
     "output_type": "stream",
     "text": [
      "Training until validation scores don't improve for 100 rounds\n",
      "Early stopping, best iteration is:\n",
      "[70]\ttraining's auc: 0.969576\ttraining's binary_logloss: 0.0203851\tvalid_1's auc: 0.919815\tvalid_1's binary_logloss: 0.0251003\n",
      "Fold  1 AUC : 0.919815\n",
      "Training until validation scores don't improve for 100 rounds\n",
      "Early stopping, best iteration is:\n",
      "[92]\ttraining's auc: 0.974096\ttraining's binary_logloss: 0.0197679\tvalid_1's auc: 0.928031\tvalid_1's binary_logloss: 0.0242165\n",
      "Fold  2 AUC : 0.928031\n",
      "Training until validation scores don't improve for 100 rounds\n",
      "Early stopping, best iteration is:\n",
      "[89]\ttraining's auc: 0.973714\ttraining's binary_logloss: 0.020193\tvalid_1's auc: 0.925066\tvalid_1's binary_logloss: 0.0239806\n",
      "Fold  3 AUC : 0.925066\n",
      "=====Full AUC score 0.924240=====\n"
     ]
    }
   ],
   "source": [
    "train = valid\n",
    "y = train['label']\n",
    "folds = KFold(n_splits=3, shuffle=True, random_state=546789)\n",
    "s_folds = StratifiedKFold(n_splits=3, shuffle=True, random_state=546789)\n",
    "oof_preds, test_preds, importances = train_model_lgb(train, test, y, s_folds)"
   ]
  },
  {
   "cell_type": "code",
   "execution_count": 17,
   "id": "black-burst",
   "metadata": {
    "scrolled": true
   },
   "outputs": [],
   "source": [
    "run_dir = './baseline_outputs/sample_run/'"
   ]
  },
  {
   "cell_type": "code",
   "execution_count": 18,
   "id": "civil-lighting",
   "metadata": {},
   "outputs": [],
   "source": [
    "test_preds.sort_values(by=['userId', 'score'], ascending=[True, False], inplace=True)\n",
    "oof_preds.sort_values(by=['userId', 'score'], ascending=[True, False], inplace=True)\n",
    "\n",
    "test_preds.to_csv(run_dir+f'{tgt_market}/test_pred.tsv', sep='\\t', index=False)\n",
    "oof_preds.to_csv(run_dir+f'{tgt_market}/valid_pred.tsv', sep='\\t', index=False)"
   ]
  },
  {
   "cell_type": "code",
   "execution_count": null,
   "id": "loved-translator",
   "metadata": {},
   "outputs": [],
   "source": []
  },
  {
   "cell_type": "code",
   "execution_count": null,
   "id": "basic-square",
   "metadata": {},
   "outputs": [],
   "source": []
  }
 ],
 "metadata": {
  "kernelspec": {
   "display_name": "Python 3",
   "language": "python",
   "name": "python3"
  },
  "language_info": {
   "codemirror_mode": {
    "name": "ipython",
    "version": 3
   },
   "file_extension": ".py",
   "mimetype": "text/x-python",
   "name": "python",
   "nbconvert_exporter": "python",
   "pygments_lexer": "ipython3",
   "version": "3.7.11"
  }
 },
 "nbformat": 4,
 "nbformat_minor": 5
}
