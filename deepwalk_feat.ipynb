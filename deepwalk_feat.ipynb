{
 "cells": [
  {
   "cell_type": "code",
   "execution_count": 1,
   "metadata": {},
   "outputs": [
    {
     "name": "stderr",
     "output_type": "stream",
     "text": [
      "2021-12-09 09:06:42.971613: I tensorflow/stream_executor/platform/default/dso_loader.cc:48] Successfully opened dynamic library libcudart.so.10.1\n"
     ]
    }
   ],
   "source": [
    "import numpy as np\n",
    "\n",
    "from ge.classify import read_node_label, Classifier\n",
    "from ge import DeepWalk\n",
    "import networkx as nx\n",
    "\n",
    "import pandas as pd\n",
    "import numpy as np\n",
    "from tqdm import tqdm\n",
    "tqdm.pandas(desc='pandas bar')\n",
    "\n",
    "pd.set_option('max_columns', None)\n",
    "pd.set_option('max_rows', 300)\n",
    "pd.set_option('float_format', lambda x: '%.3f' % x)\n",
    "\n",
    "tgt_market = 't1'\n",
    "src_market = 's1'\n",
    "tgt_data_dir = f'./DATA/{tgt_market}/'"
   ]
  },
  {
   "cell_type": "code",
   "execution_count": 2,
   "metadata": {},
   "outputs": [],
   "source": [
    "# 读取训练数据\n",
    "train = pd.read_table(tgt_data_dir+'train.tsv')\n",
    "train_5core = pd.read_table(tgt_data_dir+'train_5core.tsv')\n",
    "\n",
    "train_cross = train_5core.merge(train, on=['userId', 'itemId'], how='left')\n",
    "train_5core = train_cross[train_cross['rating_y'].isnull()][['userId', 'itemId']]\n",
    "\n",
    "train = pd.concat([train, train_5core, train_5core, train_5core, train_5core, train_5core], ignore_index=True)[['userId', 'itemId']]"
   ]
  },
  {
   "cell_type": "code",
   "execution_count": 3,
   "metadata": {},
   "outputs": [
    {
     "name": "stderr",
     "output_type": "stream",
     "text": [
      "[Parallel(n_jobs=8)]: Using backend LokyBackend with 8 concurrent workers.\n",
      "2021-12-09 09:06:49.509981: I tensorflow/stream_executor/platform/default/dso_loader.cc:48] Successfully opened dynamic library libcudart.so.10.1\n",
      "2021-12-09 09:06:50.953420: I tensorflow/stream_executor/platform/default/dso_loader.cc:48] Successfully opened dynamic library libcudart.so.10.1\n",
      "2021-12-09 09:06:52.802128: I tensorflow/stream_executor/platform/default/dso_loader.cc:48] Successfully opened dynamic library libcudart.so.10.1\n",
      "2021-12-09 09:06:54.223123: I tensorflow/stream_executor/platform/default/dso_loader.cc:48] Successfully opened dynamic library libcudart.so.10.1\n",
      "2021-12-09 09:06:55.154779: I tensorflow/stream_executor/platform/default/dso_loader.cc:48] Successfully opened dynamic library libcudart.so.10.1\n",
      "2021-12-09 09:06:56.260762: I tensorflow/stream_executor/platform/default/dso_loader.cc:48] Successfully opened dynamic library libcudart.so.10.1\n",
      "2021-12-09 09:06:57.512813: I tensorflow/stream_executor/platform/default/dso_loader.cc:48] Successfully opened dynamic library libcudart.so.10.1\n",
      "[Parallel(n_jobs=8)]: Done   2 out of   8 | elapsed:   11.1s remaining:   33.3s\n",
      "2021-12-09 09:06:58.824198: I tensorflow/stream_executor/platform/default/dso_loader.cc:48] Successfully opened dynamic library libcudart.so.10.1\n",
      "[Parallel(n_jobs=8)]: Done   8 out of   8 | elapsed:   17.8s finished\n"
     ]
    },
    {
     "name": "stdout",
     "output_type": "stream",
     "text": [
      "Learning embedding vectors...\n",
      "Learning embedding vectors done!\n"
     ]
    }
   ],
   "source": [
    "G = nx.from_pandas_edgelist(train, source='userId', target='itemId')\n",
    "\n",
    "embed_size = 32\n",
    "model = DeepWalk(G, walk_length=5, num_walks=80, workers=8)\n",
    "model.train(embed_size=embed_size, window_size=3, iter=3)\n",
    "embeddings = model.get_embeddings()"
   ]
  },
  {
   "cell_type": "code",
   "execution_count": 4,
   "metadata": {},
   "outputs": [],
   "source": [
    "embed_df = pd.DataFrame(columns=['id'])\n",
    "embed_df['id'] = list(embeddings.keys())\n",
    "# embed_df['emb'] = list(embeddings.values())\n",
    "\n",
    "emb_matrix = np.array(list(embeddings.values()))\n",
    "for i in range(embed_size):\n",
    "    embed_df['deepwalk_emb_{}'.format(i)] = emb_matrix[:, i]"
   ]
  },
  {
   "cell_type": "code",
   "execution_count": 5,
   "metadata": {},
   "outputs": [],
   "source": [
    "embed_df.to_csv(f'./deepwalk_{tgt_market}.csv', index=None)"
   ]
  }
 ],
 "metadata": {
  "interpreter": {
   "hash": "9b1e3767262450d72579892ea2b8405f0b39a1776e15a613db348d08410668c5"
  },
  "kernelspec": {
   "display_name": "Python 3.7.11 64-bit ('xmrec': conda)",
   "language": "python",
   "name": "python3"
  },
  "language_info": {
   "codemirror_mode": {
    "name": "ipython",
    "version": 3
   },
   "file_extension": ".py",
   "mimetype": "text/x-python",
   "name": "python",
   "nbconvert_exporter": "python",
   "pygments_lexer": "ipython3",
   "version": "3.7.11"
  },
  "orig_nbformat": 4
 },
 "nbformat": 4,
 "nbformat_minor": 2
}
