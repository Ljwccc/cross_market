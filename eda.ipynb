{
 "cells": [
  {
   "cell_type": "code",
   "execution_count": 1,
   "metadata": {},
   "outputs": [],
   "source": [
    "import re\n",
    "import pandas as pd\n",
    "\n",
    "import numpy as np\n",
    "\n",
    "from tqdm import tqdm\n",
    "import os\n",
    "\n",
    "tqdm.pandas(desc='pandas bar')\n",
    "\n",
    "pd.set_option('max_columns', None)\n",
    "pd.set_option('max_rows', 200)\n",
    "pd.set_option('float_format', lambda x: '%.3f' % x)\n",
    "\n",
    "data_dir_s1 = './DATA/s1/'\n",
    "data_dir_s2 = './DATA/s2/'\n",
    "data_dir_s3 = './DATA/s3/'\n",
    "\n",
    "data_dir_t1 = './DATA/t1/'\n",
    "data_dir_t2 = './DATA/t2/'"
   ]
  },
  {
   "cell_type": "code",
   "execution_count": null,
   "metadata": {},
   "outputs": [],
   "source": [
    "\n",
    "# source市场\n",
    "train_s1 = pd.read_table(data_dir_s1+'train.tsv')\n",
    "train_s2 = pd.read_table(data_dir_s2+'train.tsv')\n",
    "train_s3 = pd.read_table(data_dir_s3+'train.tsv')\n",
    "\n",
    "train_core_s1 = pd.read_table(data_dir_s1+'train_5core.tsv')\n",
    "train_core_s2 = pd.read_table(data_dir_s2+'train_5core.tsv')\n",
    "train_core_s3 = pd.read_table(data_dir_s3+'train_5core.tsv')\n",
    "\n",
    "# target市场\n",
    "train_t1 = pd.read_table(data_dir_t1+'train_5core.tsv')\n",
    "vaild_qrel_t1 = pd.read_table(data_dir_t1+'valid_qrel.tsv')"
   ]
  },
  {
   "cell_type": "code",
   "execution_count": null,
   "metadata": {},
   "outputs": [],
   "source": [
    "train_t1.head()"
   ]
  },
  {
   "cell_type": "code",
   "execution_count": null,
   "metadata": {},
   "outputs": [],
   "source": [
    "train_t1_list = train_t1.groupby(['userId'],as_index=False)['itemId'].agg({'item_list':list})"
   ]
  },
  {
   "cell_type": "code",
   "execution_count": null,
   "metadata": {},
   "outputs": [],
   "source": [
    "print(train_t1_list[train_t1_list['userId']=='t1U1000001'].iloc[0,1])\n",
    "print(vaild_qrel_t1[vaild_qrel_t1['userId']=='t1U1000001'])"
   ]
  },
  {
   "cell_type": "code",
   "execution_count": null,
   "metadata": {},
   "outputs": [],
   "source": [
    "vaild_qrel_t1[vaild_qrel_t1['userId']=='t1U1000001']"
   ]
  },
  {
   "cell_type": "code",
   "execution_count": null,
   "metadata": {},
   "outputs": [],
   "source": [
    "print(train_s1['rating'].value_counts(normalize=True))\n",
    "print(train_s2['rating'].value_counts(normalize=True))\n",
    "print(train_s3['rating'].value_counts(normalize=True))"
   ]
  },
  {
   "cell_type": "code",
   "execution_count": null,
   "metadata": {},
   "outputs": [],
   "source": [
    "print(len(set(vaild_qrel_t1['userId'])))\n",
    "print(len(set(train_t1['userId'])))"
   ]
  },
  {
   "cell_type": "code",
   "execution_count": 7,
   "metadata": {},
   "outputs": [
    {
     "name": "stdout",
     "output_type": "stream",
     "text": [
      "[0, 1, 2, 3]\n"
     ]
    }
   ],
   "source": [
    "a = [0,1,2,3]\n",
    "def f(a):\n",
    "    b = a\n",
    "    b = [x+1 for x in b]\n",
    "f(a)\n",
    "print(a)"
   ]
  }
 ],
 "metadata": {
  "interpreter": {
   "hash": "31f2aee4e71d21fbe5cf8b01ff0e069b9275f58929596ceb00d14d90e3e16cd6"
  },
  "kernelspec": {
   "display_name": "Python 3.6.9 64-bit",
   "name": "python3"
  },
  "language_info": {
   "codemirror_mode": {
    "name": "ipython",
    "version": 3
   },
   "file_extension": ".py",
   "mimetype": "text/x-python",
   "name": "python",
   "nbconvert_exporter": "python",
   "pygments_lexer": "ipython3",
   "version": "3.7.11"
  },
  "orig_nbformat": 4
 },
 "nbformat": 4,
 "nbformat_minor": 2
}
