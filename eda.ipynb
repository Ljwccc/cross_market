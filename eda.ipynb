{
 "cells": [
  {
   "cell_type": "code",
   "execution_count": 1,
   "metadata": {},
   "outputs": [],
   "source": [
    "import re\n",
    "import pandas as pd\n",
    "\n",
    "import numpy as np\n",
    "\n",
    "from tqdm import tqdm\n",
    "import os\n",
    "\n",
    "tqdm.pandas(desc='pandas bar')\n",
    "\n",
    "pd.set_option('max_columns', None)\n",
    "pd.set_option('max_rows', 300)\n",
    "pd.set_option('float_format', lambda x: '%.3f' % x)\n",
    "\n",
    "%matplotlib inline\n",
    "\n",
    "data_dir_s1 = './DATA/s1/'\n",
    "data_dir_s2 = './DATA/s2/'\n",
    "data_dir_s3 = './DATA/s3/'\n",
    "\n",
    "data_dir_t1 = './DATA/t1/'\n",
    "data_dir_t2 = './DATA/t2/'"
   ]
  },
  {
   "cell_type": "code",
   "execution_count": 2,
   "metadata": {},
   "outputs": [],
   "source": [
    "\n",
    "# # source市场\n",
    "# train_s1 = pd.read_table(data_dir_s1+'train.tsv')\n",
    "# train_s2 = pd.read_table(data_dir_s2+'train.tsv')\n",
    "# train_s3 = pd.read_table(data_dir_s3+'train.tsv')\n",
    "\n",
    "# train_core_s1 = pd.read_table(data_dir_s1+'train_5core.tsv')\n",
    "# train_core_s2 = pd.read_table(data_dir_s2+'train_5core.tsv')\n",
    "# train_core_s3 = pd.read_table(data_dir_s3+'train_5core.tsv')\n",
    "\n",
    "# target市场\n",
    "train_5coret1 = pd.read_table(data_dir_t1+'train_5core.tsv')\n",
    "train_t1 = pd.read_table(data_dir_t1+'train.tsv')\n",
    "vaild_qrel_t1 = pd.read_table(data_dir_t1+'valid_qrel.tsv')\n",
    "vaild_pred_t1 = pd.read_table('/ljw/wsdm22_cup_xmrec/wsdm22_cup_xmrec_rate/baseline_outputs/sample_run/t1/valid_pred.tsv')\n",
    "test_t1 = pd.read_table(data_dir_t1+'test_run.tsv')\n",
    "\n",
    "train_5coret2 = pd.read_table(data_dir_t2+'train_5core.tsv')\n",
    "train_t2 = pd.read_table(data_dir_t2+'train.tsv')\n",
    "vaild_qrel_t2 = pd.read_table(data_dir_t2+'valid_qrel.tsv')\n",
    "vaild_pred_t2 = pd.read_table('/ljw/wsdm22_cup_xmrec/wsdm22_cup_xmrec_rate/baseline_outputs/sample_run/t2/valid_pred.tsv')"
   ]
  },
  {
   "cell_type": "code",
   "execution_count": 3,
   "metadata": {},
   "outputs": [],
   "source": [
    "train_cross_t1 = train_5coret1.merge(train_t1, on=['userId', 'itemId'], how='left')\n",
    "train_5coret1 = train_cross_t1[train_cross_t1['rating_y'].isnull()][['userId', 'itemId']]  \n",
    "\n",
    "train_t1 = pd.concat([train_t1, train_5coret1, train_5coret1, train_5coret1, train_5coret1, train_5coret1], ignore_index=True)\n",
    "user_feature_list = train_t1.groupby(\"userId\").agg(rating_list=(\"rating\", list)).reset_index()\n",
    "user_feature_list['item_num'] = user_feature_list['rating_list'].apply(len)"
   ]
  },
  {
   "cell_type": "code",
   "execution_count": 4,
   "metadata": {},
   "outputs": [
    {
     "data": {
      "text/html": [
       "<div>\n",
       "<style scoped>\n",
       "    .dataframe tbody tr th:only-of-type {\n",
       "        vertical-align: middle;\n",
       "    }\n",
       "\n",
       "    .dataframe tbody tr th {\n",
       "        vertical-align: top;\n",
       "    }\n",
       "\n",
       "    .dataframe thead th {\n",
       "        text-align: right;\n",
       "    }\n",
       "</style>\n",
       "<table border=\"1\" class=\"dataframe\">\n",
       "  <thead>\n",
       "    <tr style=\"text-align: right;\">\n",
       "      <th></th>\n",
       "      <th>userId</th>\n",
       "      <th>itemId</th>\n",
       "      <th>score</th>\n",
       "    </tr>\n",
       "  </thead>\n",
       "  <tbody>\n",
       "    <tr>\n",
       "      <th>0</th>\n",
       "      <td>t1U1000001</td>\n",
       "      <td>P1013766</td>\n",
       "      <td>0.996</td>\n",
       "    </tr>\n",
       "    <tr>\n",
       "      <th>1</th>\n",
       "      <td>t1U1000001</td>\n",
       "      <td>P1026878</td>\n",
       "      <td>0.018</td>\n",
       "    </tr>\n",
       "  </tbody>\n",
       "</table>\n",
       "</div>"
      ],
      "text/plain": [
       "       userId    itemId  score\n",
       "0  t1U1000001  P1013766  0.996\n",
       "1  t1U1000001  P1026878  0.018"
      ]
     },
     "execution_count": 4,
     "metadata": {},
     "output_type": "execute_result"
    }
   ],
   "source": [
    "vaild_pred_t1.head(2)"
   ]
  },
  {
   "cell_type": "code",
   "execution_count": 5,
   "metadata": {},
   "outputs": [
    {
     "data": {
      "text/html": [
       "<div>\n",
       "<style scoped>\n",
       "    .dataframe tbody tr th:only-of-type {\n",
       "        vertical-align: middle;\n",
       "    }\n",
       "\n",
       "    .dataframe tbody tr th {\n",
       "        vertical-align: top;\n",
       "    }\n",
       "\n",
       "    .dataframe thead th {\n",
       "        text-align: right;\n",
       "    }\n",
       "</style>\n",
       "<table border=\"1\" class=\"dataframe\">\n",
       "  <thead>\n",
       "    <tr style=\"text-align: right;\">\n",
       "      <th></th>\n",
       "      <th>userId</th>\n",
       "      <th>itemId</th>\n",
       "      <th>rating</th>\n",
       "    </tr>\n",
       "  </thead>\n",
       "  <tbody>\n",
       "    <tr>\n",
       "      <th>0</th>\n",
       "      <td>t1U1005570</td>\n",
       "      <td>P1026107</td>\n",
       "      <td>1</td>\n",
       "    </tr>\n",
       "    <tr>\n",
       "      <th>1</th>\n",
       "      <td>t1U1005339</td>\n",
       "      <td>P1032058</td>\n",
       "      <td>1</td>\n",
       "    </tr>\n",
       "  </tbody>\n",
       "</table>\n",
       "</div>"
      ],
      "text/plain": [
       "       userId    itemId  rating\n",
       "0  t1U1005570  P1026107       1\n",
       "1  t1U1005339  P1032058       1"
      ]
     },
     "execution_count": 5,
     "metadata": {},
     "output_type": "execute_result"
    }
   ],
   "source": [
    "vaild_qrel_t1.head(2)"
   ]
  },
  {
   "cell_type": "code",
   "execution_count": 6,
   "metadata": {},
   "outputs": [
    {
     "name": "stdout",
     "output_type": "stream",
     "text": [
      "t1  all: 2697,pos of 1st: 1671,pos of >10: 580\n",
      "t2  all: 5482,pos of 1st: 2776,pos of >10: 1677\n"
     ]
    }
   ],
   "source": [
    "# t1\n",
    "vaild = vaild_pred_t1.merge(vaild_qrel_t1, on=['userId', 'itemId'], how='left')\n",
    "vaild['score'] = round(vaild['score'], 4)\n",
    "vaild = vaild.groupby(\"userId\").agg(\n",
    "    score_list=(\"score\", list),\n",
    "    rating_pos=(\"rating\", list)  # 有rating代表预测的是这个位置\n",
    ").reset_index()\n",
    "\n",
    "vaild = vaild.merge(user_feature_list[['userId','item_num','rating_list']], on='userId', how='left')\n",
    "\n",
    "vaild['score_std'] = vaild['score_list'].apply(lambda x:np.std(x[:10]))\n",
    "# 找到预测的位置\n",
    "vaild['posi_pos'] = vaild['rating_pos'].apply(lambda x:x.index(1.0)+1)\n",
    "print('t1  all: {},pos of 1st: {},pos of >10: {}'.format(vaild.shape[0], vaild[vaild['posi_pos']==1].shape[0], vaild[vaild['posi_pos']>10].shape[0]))\n",
    "\n",
    "# t2\n",
    "vaild = vaild_pred_t2.merge(vaild_qrel_t2, on=['userId', 'itemId'], how='left')\n",
    "vaild = vaild.groupby(\"userId\").agg(\n",
    "    score_list=(\"score\", list),\n",
    "    rating_list=(\"rating\", list)\n",
    ").reset_index()\n",
    "\n",
    "# 找到预测的位置\n",
    "vaild['posi_pos'] = vaild['rating_list'].apply(lambda x:x.index(1.0)+1)\n",
    "print('t2  all: {},pos of 1st: {},pos of >10: {}'.format(vaild.shape[0], vaild[vaild['posi_pos']==1].shape[0], vaild[vaild['posi_pos']>10].shape[0]))"
   ]
  },
  {
   "cell_type": "code",
   "execution_count": 7,
   "metadata": {},
   "outputs": [],
   "source": [
    "# print(\"x>10 pred score std'max:\", vaild[vaild['posi_pos']>10]['score_std'].max())\n",
    "# print(\"x>10 pred score std'min:\", vaild[vaild['posi_pos']>10]['score_std'].min())\n",
    "\n",
    "# print(\"1<x<=10 pred score std'max:\", vaild[(vaild['posi_pos']>1)&(vaild['posi_pos']<=10)]['score_std'].max())\n",
    "# print(\"1<x<=10 pred score std'min:\", vaild[(vaild['posi_pos']>1)&(vaild['posi_pos']<=10)]['score_std'].min())\n",
    "\n",
    "# print(\"x==1 pred score std'max:\", vaild[vaild['posi_pos']==1]['score_std'].max())\n",
    "# print(\"x==1 pred score std'min:\", vaild[vaild['posi_pos']==1]['score_std'].min())"
   ]
  },
  {
   "cell_type": "code",
   "execution_count": null,
   "metadata": {},
   "outputs": [],
   "source": []
  }
 ],
 "metadata": {
  "interpreter": {
   "hash": "31f2aee4e71d21fbe5cf8b01ff0e069b9275f58929596ceb00d14d90e3e16cd6"
  },
  "kernelspec": {
   "display_name": "Python 3.6.9 64-bit",
   "name": "python3"
  },
  "language_info": {
   "codemirror_mode": {
    "name": "ipython",
    "version": 3
   },
   "file_extension": ".py",
   "mimetype": "text/x-python",
   "name": "python",
   "nbconvert_exporter": "python",
   "pygments_lexer": "ipython3",
   "version": "3.7.11"
  },
  "orig_nbformat": 4
 },
 "nbformat": 4,
 "nbformat_minor": 2
}
